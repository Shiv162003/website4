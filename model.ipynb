{
 "cells": [
  {
   "cell_type": "code",
   "execution_count": 5,
   "id": "835db2d2-e110-41e3-9bf8-49f8fd60ecf8",
   "metadata": {},
   "outputs": [
    {
     "name": "stdout",
     "output_type": "stream",
     "text": [
      "SVM model trained successfully!\n"
     ]
    },
    {
     "name": "stdin",
     "output_type": "stream",
     "text": [
      "Enter a comment:  i will fuck you\n"
     ]
    },
    {
     "name": "stdout",
     "output_type": "stream",
     "text": [
      "Predicted label: RapeThreat\n"
     ]
    }
   ],
   "source": [
    "import pandas as pd\n",
    "from sklearn.feature_extraction.text import TfidfVectorizer\n",
    "from sklearn.svm import SVC\n",
    "from sklearn.pipeline import make_pipeline\n",
    "\n",
    "# Load your training data\n",
    "# Assuming the file is CSV and the relevant columns are 'comments' and 'labels'\n",
    "data = pd.read_csv('train Data.csv')\n",
    "comments = data['Comment']\n",
    "labels = data['Label']\n",
    "\n",
    "# Initialize a TF-IDF Vectorizer\n",
    "tfidf_vectorizer = TfidfVectorizer(lowercase=True, stop_words='english', max_features=1000)\n",
    "\n",
    "# Fit the vectorizer on all available comments\n",
    "tfidf_vectorizer.fit(comments)\n",
    "\n",
    "# Create a SVM classifier using the best parameters\n",
    "svm_classifier = SVC(kernel='linear')\n",
    "svm_classifier.fit(tfidf_vectorizer.transform(comments), labels)\n",
    "\n",
    "print(\"SVM model trained successfully!\")\n",
    "\n",
    "# Function to predict labels for user input\n",
    "def predict_label(input_text):\n",
    "    # Use the trained TF-IDF vectorizer and SVM classifier to predict\n",
    "    input_tfidf = tfidf_vectorizer.transform([input_text])\n",
    "    predicted_label = svm_classifier.predict(input_tfidf)\n",
    "    return predicted_label[0]\n",
    "\n",
    "# Take user input and classify it\n",
    "user_input = input(\"Enter a comment: \")\n",
    "predicted_label = predict_label(user_input)\n",
    "print(\"Predicted label:\", predicted_label)\n"
   ]
  },
  {
   "cell_type": "code",
   "execution_count": null,
   "id": "bbf61f1c-beff-4f47-bb86-a8ff6c8123de",
   "metadata": {},
   "outputs": [],
   "source": []
  }
 ],
 "metadata": {
  "kernelspec": {
   "display_name": "Python 3 (ipykernel)",
   "language": "python",
   "name": "python3"
  },
  "language_info": {
   "codemirror_mode": {
    "name": "ipython",
    "version": 3
   },
   "file_extension": ".py",
   "mimetype": "text/x-python",
   "name": "python",
   "nbconvert_exporter": "python",
   "pygments_lexer": "ipython3",
   "version": "3.11.8"
  }
 },
 "nbformat": 4,
 "nbformat_minor": 5
}
